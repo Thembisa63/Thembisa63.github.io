{
 "cells": [
  {
   "cell_type": "code",
   "execution_count": 2,
   "id": "17105389-9fd9-4833-981b-acc7076ed825",
   "metadata": {},
   "outputs": [],
   "source": [
    "import pandas as pd\n",
    "import numpy as np\n",
    "import matplotlib.pyplot as plt\n",
    "import seaborn as sns"
   ]
  },
  {
   "cell_type": "code",
   "execution_count": 21,
   "id": "87e68c7c-5e1e-402f-95a5-d603d7199a18",
   "metadata": {},
   "outputs": [
    {
     "data": {
      "text/html": [
       "<div>\n",
       "<style scoped>\n",
       "    .dataframe tbody tr th:only-of-type {\n",
       "        vertical-align: middle;\n",
       "    }\n",
       "\n",
       "    .dataframe tbody tr th {\n",
       "        vertical-align: top;\n",
       "    }\n",
       "\n",
       "    .dataframe thead th {\n",
       "        text-align: right;\n",
       "    }\n",
       "</style>\n",
       "<table border=\"1\" class=\"dataframe\">\n",
       "  <thead>\n",
       "    <tr style=\"text-align: right;\">\n",
       "      <th></th>\n",
       "      <th>Striker_ID</th>\n",
       "      <th>Nationality</th>\n",
       "      <th>Footedness</th>\n",
       "      <th>Marital Status</th>\n",
       "      <th>Goals Scored</th>\n",
       "      <th>Assists</th>\n",
       "      <th>Shots on Target</th>\n",
       "      <th>Shot Accuracy</th>\n",
       "      <th>Conversion Rate</th>\n",
       "      <th>Dribbling Success</th>\n",
       "      <th>Movement off the Ball</th>\n",
       "      <th>Hold-up Play</th>\n",
       "      <th>Aerial Duels Won</th>\n",
       "      <th>Defensive Contribution</th>\n",
       "      <th>Big Game Performance</th>\n",
       "      <th>Consistency</th>\n",
       "      <th>Penalty Success Rate</th>\n",
       "      <th>Impact on Team Performance</th>\n",
       "      <th>Off-field Conduct</th>\n",
       "    </tr>\n",
       "  </thead>\n",
       "  <tbody>\n",
       "    <tr>\n",
       "      <th>0</th>\n",
       "      <td>1</td>\n",
       "      <td>Spain</td>\n",
       "      <td>Left-footed</td>\n",
       "      <td>No</td>\n",
       "      <td>17.483571</td>\n",
       "      <td>10.778533</td>\n",
       "      <td>34.795488</td>\n",
       "      <td>0.677836</td>\n",
       "      <td>0.166241</td>\n",
       "      <td>0.757061</td>\n",
       "      <td>50.921924</td>\n",
       "      <td>71.806409</td>\n",
       "      <td>15.682532</td>\n",
       "      <td>30.412215</td>\n",
       "      <td>6.152481</td>\n",
       "      <td>0.820314</td>\n",
       "      <td>0.922727</td>\n",
       "      <td>8.570370</td>\n",
       "      <td>11.451388</td>\n",
       "    </tr>\n",
       "    <tr>\n",
       "      <th>1</th>\n",
       "      <td>2</td>\n",
       "      <td>France</td>\n",
       "      <td>Left-footed</td>\n",
       "      <td>Yes</td>\n",
       "      <td>14.308678</td>\n",
       "      <td>13.728250</td>\n",
       "      <td>31.472436</td>\n",
       "      <td>0.544881</td>\n",
       "      <td>0.192774</td>\n",
       "      <td>0.796818</td>\n",
       "      <td>61.396150</td>\n",
       "      <td>53.726866</td>\n",
       "      <td>19.843983</td>\n",
       "      <td>26.474913</td>\n",
       "      <td>6.093172</td>\n",
       "      <td>0.803321</td>\n",
       "      <td>0.678984</td>\n",
       "      <td>3.444638</td>\n",
       "      <td>8.243689</td>\n",
       "    </tr>\n",
       "    <tr>\n",
       "      <th>2</th>\n",
       "      <td>3</td>\n",
       "      <td>Germany</td>\n",
       "      <td>Left-footed</td>\n",
       "      <td>No</td>\n",
       "      <td>18.238443</td>\n",
       "      <td>3.804297</td>\n",
       "      <td>25.417413</td>\n",
       "      <td>0.518180</td>\n",
       "      <td>0.160379</td>\n",
       "      <td>0.666869</td>\n",
       "      <td>65.863945</td>\n",
       "      <td>60.452227</td>\n",
       "      <td>20.090084</td>\n",
       "      <td>24.164116</td>\n",
       "      <td>3.408714</td>\n",
       "      <td>0.766540</td>\n",
       "      <td>0.843858</td>\n",
       "      <td>8.429491</td>\n",
       "      <td>9.506835</td>\n",
       "    </tr>\n",
       "    <tr>\n",
       "      <th>3</th>\n",
       "      <td>4</td>\n",
       "      <td>France</td>\n",
       "      <td>Right-footed</td>\n",
       "      <td>No</td>\n",
       "      <td>22.615149</td>\n",
       "      <td>9.688908</td>\n",
       "      <td>20.471443</td>\n",
       "      <td>0.599663</td>\n",
       "      <td>0.184602</td>\n",
       "      <td>0.638776</td>\n",
       "      <td>88.876877</td>\n",
       "      <td>60.511979</td>\n",
       "      <td>22.363152</td>\n",
       "      <td>44.129989</td>\n",
       "      <td>6.339820</td>\n",
       "      <td>0.611798</td>\n",
       "      <td>0.662997</td>\n",
       "      <td>6.532552</td>\n",
       "      <td>8.199653</td>\n",
       "    </tr>\n",
       "    <tr>\n",
       "      <th>4</th>\n",
       "      <td>5</td>\n",
       "      <td>France</td>\n",
       "      <td>Left-footed</td>\n",
       "      <td>Yes</td>\n",
       "      <td>13.829233</td>\n",
       "      <td>6.048072</td>\n",
       "      <td>29.887563</td>\n",
       "      <td>0.582982</td>\n",
       "      <td>0.105319</td>\n",
       "      <td>0.591485</td>\n",
       "      <td>75.565531</td>\n",
       "      <td>54.982158</td>\n",
       "      <td>13.165708</td>\n",
       "      <td>37.859323</td>\n",
       "      <td>8.465658</td>\n",
       "      <td>0.701638</td>\n",
       "      <td>0.906538</td>\n",
       "      <td>8.414915</td>\n",
       "      <td>6.665333</td>\n",
       "    </tr>\n",
       "  </tbody>\n",
       "</table>\n",
       "</div>"
      ],
      "text/plain": [
       "   Striker_ID Nationality    Footedness Marital Status  Goals Scored  \\\n",
       "0           1       Spain   Left-footed             No     17.483571   \n",
       "1           2      France   Left-footed            Yes     14.308678   \n",
       "2           3     Germany   Left-footed             No     18.238443   \n",
       "3           4      France  Right-footed             No     22.615149   \n",
       "4           5      France   Left-footed            Yes     13.829233   \n",
       "\n",
       "     Assists  Shots on Target  Shot Accuracy  Conversion Rate  \\\n",
       "0  10.778533        34.795488       0.677836         0.166241   \n",
       "1  13.728250        31.472436       0.544881         0.192774   \n",
       "2   3.804297        25.417413       0.518180         0.160379   \n",
       "3   9.688908        20.471443       0.599663         0.184602   \n",
       "4   6.048072        29.887563       0.582982         0.105319   \n",
       "\n",
       "   Dribbling Success  Movement off the Ball  Hold-up Play  Aerial Duels Won  \\\n",
       "0           0.757061              50.921924     71.806409         15.682532   \n",
       "1           0.796818              61.396150     53.726866         19.843983   \n",
       "2           0.666869              65.863945     60.452227         20.090084   \n",
       "3           0.638776              88.876877     60.511979         22.363152   \n",
       "4           0.591485              75.565531     54.982158         13.165708   \n",
       "\n",
       "   Defensive Contribution  Big Game Performance  Consistency  \\\n",
       "0               30.412215              6.152481     0.820314   \n",
       "1               26.474913              6.093172     0.803321   \n",
       "2               24.164116              3.408714     0.766540   \n",
       "3               44.129989              6.339820     0.611798   \n",
       "4               37.859323              8.465658     0.701638   \n",
       "\n",
       "   Penalty Success Rate  Impact on Team Performance  Off-field Conduct  \n",
       "0              0.922727                    8.570370          11.451388  \n",
       "1              0.678984                    3.444638           8.243689  \n",
       "2              0.843858                    8.429491           9.506835  \n",
       "3              0.662997                    6.532552           8.199653  \n",
       "4              0.906538                    8.414915           6.665333  "
      ]
     },
     "execution_count": 21,
     "metadata": {},
     "output_type": "execute_result"
    }
   ],
   "source": [
    "\"\"\"Load dataset into jupyter notebook\"\"\"\n",
    "data = pd.read_excel('Strikers_performance.xlsx')\n",
    "data.head()"
   ]
  },
  {
   "cell_type": "code",
   "execution_count": 4,
   "id": "bfbc01c2-4398-4267-9feb-fb303861b26c",
   "metadata": {},
   "outputs": [
    {
     "name": "stdout",
     "output_type": "stream",
     "text": [
      "Requirement already satisfied: openpyxl in c:\\users\\zephr\\appdata\\local\\programs\\python\\python313\\lib\\site-packages (3.1.5)\n",
      "Requirement already satisfied: et-xmlfile in c:\\users\\zephr\\appdata\\local\\programs\\python\\python313\\lib\\site-packages (from openpyxl) (2.0.0)\n"
     ]
    }
   ],
   "source": [
    "!pip install openpyxl    "
   ]
  },
  {
   "cell_type": "code",
   "execution_count": 5,
   "id": "9cfadc3d-8fcd-472a-bfb6-db81ef5b142d",
   "metadata": {},
   "outputs": [],
   "source": [
    "from openpyxl import load_workbook"
   ]
  },
  {
   "cell_type": "code",
   "execution_count": 29,
   "id": "8b2a4d7b-99d5-4eeb-b057-a7beee028195",
   "metadata": {},
   "outputs": [
    {
     "name": "stdout",
     "output_type": "stream",
     "text": [
      "Missing Data:\n"
     ]
    },
    {
     "data": {
      "text/plain": [
       "Striker_ID                    0\n",
       "Nationality                   0\n",
       "Footedness                    0\n",
       "Marital Status                0\n",
       "Goals Scored                  0\n",
       "Assists                       0\n",
       "Shots on Target               0\n",
       "Shot Accuracy                 0\n",
       "Conversion Rate               0\n",
       "Dribbling Success             0\n",
       "Movement off the Ball         0\n",
       "Hold-up Play                  0\n",
       "Aerial Duels Won              0\n",
       "Defensive Contribution        0\n",
       "Big Game Performance          0\n",
       "Consistency                   0\n",
       "Penalty Success Rate          0\n",
       "Impact on Team Performance    0\n",
       "Off-field Conduct             0\n",
       "dtype: int64"
      ]
     },
     "execution_count": 29,
     "metadata": {},
     "output_type": "execute_result"
    }
   ],
   "source": [
    "\"\"\"Checks for missing values\"\"\"\n",
    "missing_data = data.isnull().sum()\n",
    "print(\"Missing Data:\""
   ]
  },
  {
   "cell_type": "code",
   "execution_count": 7,
   "id": "bf19c94f-82b3-4de7-8e28-dbaccdfb2ba3",
   "metadata": {},
   "outputs": [
    {
     "name": "stdout",
     "output_type": "stream",
     "text": [
      "Requirement already satisfied: scikit-learn in c:\\users\\zephr\\appdata\\local\\programs\\python\\python313\\lib\\site-packages (1.6.1)\n",
      "Requirement already satisfied: numpy>=1.19.5 in c:\\users\\zephr\\appdata\\local\\programs\\python\\python313\\lib\\site-packages (from scikit-learn) (2.2.1)\n",
      "Requirement already satisfied: scipy>=1.6.0 in c:\\users\\zephr\\appdata\\local\\programs\\python\\python313\\lib\\site-packages (from scikit-learn) (1.15.1)\n",
      "Requirement already satisfied: joblib>=1.2.0 in c:\\users\\zephr\\appdata\\local\\programs\\python\\python313\\lib\\site-packages (from scikit-learn) (1.4.2)\n",
      "Requirement already satisfied: threadpoolctl>=3.1.0 in c:\\users\\zephr\\appdata\\local\\programs\\python\\python313\\lib\\site-packages (from scikit-learn) (3.5.0)\n"
     ]
    }
   ],
   "source": [
    "!pip install scikit-learn"
   ]
  },
  {
   "cell_type": "code",
   "execution_count": 24,
   "id": "72d382e4-a1f0-4d57-b778-f21928a8759a",
   "metadata": {},
   "outputs": [],
   "source": [
    "import sklearn"
   ]
  },
  {
   "cell_type": "code",
   "execution_count": 25,
   "id": "deaa088b-232a-4d93-8707-0bbfbdfacc15",
   "metadata": {},
   "outputs": [],
   "source": [
    "from sklearn.impute import SimpleImputer"
   ]
  },
  {
   "cell_type": "code",
   "execution_count": 26,
   "id": "c7b3a530-7f4d-4a35-bd7f-ca6a766adc91",
   "metadata": {},
   "outputs": [],
   "source": [
    "\"\"\"Replace missing values with median\"\"\"\n",
    "imputer = SimpleImputer(strategy = 'median')\n",
    "imputer.fit(data[['Movement off the Ball']])\n",
    "data[['Movement off the Ball']] = imputer.transform(data[['Movement off the Ball']])\n",
    "            "
   ]
  },
  {
   "cell_type": "code",
   "execution_count": 27,
   "id": "bbf7460e-bc59-4028-b312-67b3a1274fa7",
   "metadata": {},
   "outputs": [],
   "source": [
    "imputer_2 = SimpleImputer(strategy = 'median')\n",
    "imputer_2.fit(data[['Big Game Performance']])\n",
    "data[['Big Game Performance']] = imputer_2.transform(data[['Big Game Performance']])"
   ]
  },
  {
   "cell_type": "code",
   "execution_count": 28,
   "id": "13b0fc1c-c557-45da-8189-dac427285b42",
   "metadata": {},
   "outputs": [],
   "source": [
    "imputer_3 = SimpleImputer(strategy = 'median')\n",
    "imputer_3.fit(data[['Penalty Success Rate']])\n",
    "data[['Penalty Success Rate']] = imputer_3.transform(data[['Penalty Success Rate']])"
   ]
  },
  {
   "cell_type": "code",
   "execution_count": 30,
   "id": "28da1bdc-c8e8-44d7-afba-40f85b79f3ae",
   "metadata": {},
   "outputs": [
    {
     "data": {
      "text/html": [
       "<div>\n",
       "<style scoped>\n",
       "    .dataframe tbody tr th:only-of-type {\n",
       "        vertical-align: middle;\n",
       "    }\n",
       "\n",
       "    .dataframe tbody tr th {\n",
       "        vertical-align: top;\n",
       "    }\n",
       "\n",
       "    .dataframe thead th {\n",
       "        text-align: right;\n",
       "    }\n",
       "</style>\n",
       "<table border=\"1\" class=\"dataframe\">\n",
       "  <thead>\n",
       "    <tr style=\"text-align: right;\">\n",
       "      <th></th>\n",
       "      <th>Striker_ID</th>\n",
       "      <th>Nationality</th>\n",
       "      <th>Footedness</th>\n",
       "      <th>Marital Status</th>\n",
       "      <th>Goals Scored</th>\n",
       "      <th>Assists</th>\n",
       "      <th>Shots on Target</th>\n",
       "      <th>Shot Accuracy</th>\n",
       "      <th>Conversion Rate</th>\n",
       "      <th>Dribbling Success</th>\n",
       "      <th>Movement off the Ball</th>\n",
       "      <th>Hold-up Play</th>\n",
       "      <th>Aerial Duels Won</th>\n",
       "      <th>Defensive Contribution</th>\n",
       "      <th>Big Game Performance</th>\n",
       "      <th>Consistency</th>\n",
       "      <th>Penalty Success Rate</th>\n",
       "      <th>Impact on Team Performance</th>\n",
       "      <th>Off-field Conduct</th>\n",
       "    </tr>\n",
       "  </thead>\n",
       "  <tbody>\n",
       "  </tbody>\n",
       "</table>\n",
       "</div>"
      ],
      "text/plain": [
       "Empty DataFrame\n",
       "Columns: [Striker_ID, Nationality, Footedness, Marital Status, Goals Scored, Assists, Shots on Target, Shot Accuracy, Conversion Rate, Dribbling Success, Movement off the Ball, Hold-up Play, Aerial Duels Won, Defensive Contribution, Big Game Performance, Consistency, Penalty Success Rate, Impact on Team Performance, Off-field Conduct]\n",
       "Index: []"
      ]
     },
     "execution_count": 30,
     "metadata": {},
     "output_type": "execute_result"
    }
   ],
   "source": [
    "\"\"\"Checks for duplicates\"\"\"\n",
    "duplicates = data.duplicated()\n",
    "data[duplicates]"
   ]
  },
  {
   "cell_type": "code",
   "execution_count": 42,
   "id": "8e5a3ec1-fc04-42b2-8198-0f3ad55f6cba",
   "metadata": {},
   "outputs": [
    {
     "data": {
      "text/plain": [
       "Striker_ID                      int64\n",
       "Nationality                    object\n",
       "Footedness                     object\n",
       "Marital Status                 object\n",
       "Goals Scored                    int64\n",
       "Assists                         int64\n",
       "Shots on Target                 int64\n",
       "Shot Accuracy                 float64\n",
       "Conversion Rate               float64\n",
       "Dribbling Success             float64\n",
       "Movement off the Ball           int64\n",
       "Hold-up Play                    int64\n",
       "Aerial Duels Won                int64\n",
       "Defensive Contribution          int64\n",
       "Big Game Performance            int64\n",
       "Consistency                   float64\n",
       "Penalty Success Rate          float64\n",
       "Impact on Team Performance      int64\n",
       "Off-field Conduct               int64\n",
       "dtype: object"
      ]
     },
     "execution_count": 42,
     "metadata": {},
     "output_type": "execute_result"
    }
   ],
   "source": [
    "data.dtypes"
   ]
  },
  {
   "cell_type": "code",
   "execution_count": 43,
   "id": "ab344021-ba91-48c2-8f0f-b540a61ac17e",
   "metadata": {},
   "outputs": [],
   "source": [
    "\"\"\"Converts datatypes from float to int\"\"\"\n",
    "data['Goals Scored'] = data['Goals Scored'].astype('int64')"
   ]
  },
  {
   "cell_type": "code",
   "execution_count": 44,
   "id": "fa3a514f-2df7-4308-aae3-6fbee314a0dc",
   "metadata": {},
   "outputs": [],
   "source": [
    "data['Assists'] = data['Assists'].astype('int64')"
   ]
  },
  {
   "cell_type": "code",
   "execution_count": 34,
   "id": "d06317c9-36e8-4cb1-b242-9e6a0b9c5e0a",
   "metadata": {},
   "outputs": [],
   "source": [
    "data['Shots on Target'] = data['Shots on Target'].astype('int64')"
   ]
  },
  {
   "cell_type": "code",
   "execution_count": 35,
   "id": "e96f8d6a-84c3-4c68-97d8-319e175ce605",
   "metadata": {},
   "outputs": [],
   "source": [
    "data['Movement off the Ball'] = data['Movement off the Ball'].astype('int64')"
   ]
  },
  {
   "cell_type": "code",
   "execution_count": 36,
   "id": "d84143ad-1fea-4078-bcfa-d27b9c788253",
   "metadata": {},
   "outputs": [],
   "source": [
    "data['Hold-up Play'] = data['Hold-up Play'].astype('int64')"
   ]
  },
  {
   "cell_type": "code",
   "execution_count": 37,
   "id": "681cc0e4-4ee0-4af6-be58-9c12f3d13a03",
   "metadata": {},
   "outputs": [],
   "source": [
    "data['Aerial Duels Won'] = data['Aerial Duels Won'].astype('int64')"
   ]
  },
  {
   "cell_type": "code",
   "execution_count": 38,
   "id": "2784e304-6380-47c7-96e2-6a17128e7dbb",
   "metadata": {},
   "outputs": [],
   "source": [
    "data['Defensive Contribution'] = data['Defensive Contribution'].astype('int64')"
   ]
  },
  {
   "cell_type": "code",
   "execution_count": 39,
   "id": "6e279d10-623b-479d-ab9d-65bf0500dca7",
   "metadata": {},
   "outputs": [],
   "source": [
    "data['Big Game Performance'] = data['Big Game Performance'].astype('int64')"
   ]
  },
  {
   "cell_type": "code",
   "execution_count": 40,
   "id": "29f365cb-941a-4b2a-b33c-c998fdc841c7",
   "metadata": {},
   "outputs": [],
   "source": [
    "data['Impact on Team Performance'] = data['Impact on Team Performance'].astype('int64')"
   ]
  },
  {
   "cell_type": "code",
   "execution_count": 41,
   "id": "d0ebd688-cc47-47e9-a93a-f79d0a5f0d4d",
   "metadata": {},
   "outputs": [],
   "source": [
    "data['Off-field Conduct'] = data['Off-field Conduct'].astype('int64')"
   ]
  },
  {
   "cell_type": "code",
   "execution_count": 45,
   "id": "7216973a-db98-4fc6-9cb5-c0b0f627ef8a",
   "metadata": {},
   "outputs": [
    {
     "name": "stdout",
     "output_type": "stream",
     "text": [
      "       Striker_ID  Goals Scored  Assists  Shots on Target  Shot Accuracy  \\\n",
      "count      500.00        500.00   500.00           500.00         500.00   \n",
      "mean       250.50         14.52     7.60            25.26           0.60   \n",
      "std        144.48          4.91     2.96             7.08           0.10   \n",
      "min          1.00          0.00     0.00             4.00           0.31   \n",
      "25%        125.75         11.00     6.00            20.00           0.54   \n",
      "50%        250.50         15.00     8.00            25.00           0.60   \n",
      "75%        375.25         18.00     9.00            30.00           0.67   \n",
      "max        500.00         34.00    15.00            43.00           0.92   \n",
      "\n",
      "       Conversion Rate  Dribbling Success  Movement off the Ball  \\\n",
      "count           500.00             500.00                 500.00   \n",
      "mean              0.20               0.70                  69.28   \n",
      "std               0.05               0.10                  10.33   \n",
      "min               0.05               0.40                  40.00   \n",
      "25%               0.17               0.64                  62.00   \n",
      "50%               0.20               0.70                  69.00   \n",
      "75%               0.23               0.76                  76.00   \n",
      "max               0.36               1.00                  98.00   \n",
      "\n",
      "       Hold-up Play  Aerial Duels Won  Defensive Contribution  \\\n",
      "count        500.00            500.00                  500.00   \n",
      "mean          59.33             19.04                   39.47   \n",
      "std           10.15              4.95                    9.90   \n",
      "min           35.00              4.00                    8.00   \n",
      "25%           52.00             16.00                   33.00   \n",
      "50%           60.00             19.00                   39.50   \n",
      "75%           66.00             22.00                   46.00   \n",
      "max           92.00             34.00                   71.00   \n",
      "\n",
      "       Big Game Performance  Consistency  Penalty Success Rate  \\\n",
      "count                500.00       500.00                500.00   \n",
      "mean                   6.43         0.74                  0.80   \n",
      "std                    1.98         0.10                  0.10   \n",
      "min                    2.00         0.46                  0.53   \n",
      "25%                    5.00         0.68                  0.72   \n",
      "50%                    6.00         0.75                  0.80   \n",
      "75%                    8.00         0.81                  0.87   \n",
      "max                   12.00         1.00                  1.00   \n",
      "\n",
      "       Impact on Team Performance  Off-field Conduct  \n",
      "count                      500.00             500.00  \n",
      "mean                         6.52               7.57  \n",
      "std                          2.11               2.09  \n",
      "min                          0.00               0.00  \n",
      "25%                          5.00               6.00  \n",
      "50%                          6.50               8.00  \n",
      "75%                          8.00               9.00  \n",
      "max                         13.00              13.00  \n"
     ]
    }
   ],
   "source": [
    "\"\"\"Statistics summary\"\"\"\n",
    "desc_stats = round(data.describe(), 2)\n",
    "print(desc_stats)"
   ]
  },
  {
   "cell_type": "code",
   "execution_count": 49,
   "id": "6b2a53d0-ff96-4e83-bc2f-203357d15b9e",
   "metadata": {},
   "outputs": [
    {
     "data": {
      "text/plain": [
       "Footedness\n",
       "Right-footed    267\n",
       "Left-footed     233\n",
       "Name: count, dtype: int64"
      ]
     },
     "execution_count": 49,
     "metadata": {},
     "output_type": "execute_result"
    }
   ],
   "source": [
    "freq_footedness = data['Footedness'].value_counts()\n",
    "freq_footedness"
   ]
  },
  {
   "cell_type": "code",
   "execution_count": 50,
   "id": "209ea9f3-b530-42c8-8fc0-773bf8f4410a",
   "metadata": {},
   "outputs": [
    {
     "data": {
      "text/plain": [
       "Footedness\n",
       "Right-footed    53.4\n",
       "Left-footed     46.6\n",
       "Name: count, dtype: float64"
      ]
     },
     "execution_count": 50,
     "metadata": {},
     "output_type": "execute_result"
    }
   ],
   "source": [
    "\"\"\"Calculates percentage for pie chart\"\"\"\n",
    "perc_footedness = freq_footedness/len(data['Footedness']) * 100\n",
    "perc_footedness"
   ]
  },
  {
   "cell_type": "code",
   "execution_count": 51,
   "id": "caf2eb8d-934d-4916-afd1-1a087de388ae",
   "metadata": {},
   "outputs": [
    {
     "data": {
      "image/png": "[encoded data removed]",
      "text/plain": [
       "<Figure size 400x700 with 1 Axes>"
      ]
     },
     "metadata": {},
     "output_type": "display_data"
    }
   ],
   "source": [
    "\"\"\"Plots the pie chart\"\"\"\n",
    "plt.figure(figsize = (4,7))\n",
    "perc_footedness.plot(kind = 'pie', autopct = '%1.2f%%')\n",
    "plt.title('Percentages of Footedness')\n",
    "plt.ylabel(' ')\n",
    "plt.show()"
   ]
  },
  {
   "cell_type": "code",
   "execution_count": 53,
   "id": "c0456f15-3f39-4e64-98e2-760841bbfd1e",
   "metadata": {},
   "outputs": [
    {
     "data": {
      "image/png": "[encoded data removed]",
      "text/plain": [
       "<Figure size 400x600 with 1 Axes>"
      ]
     },
     "metadata": {},
     "output_type": "display_data"
    }
   ],
   "source": [
    "plt.figure(figsize = (4, 6))\n",
    "sns.countplot(x = 'Nationality', hue = 'Footedness', data = data)\n",
    "plt.title('Footedness across nationalities')\n",
    "plt.xlabel('Nationalities')\n",
    "plt.ylabel('Number of Players')\n",
    "plt.show()"
   ]
  },
  {
   "cell_type": "code",
   "execution_count": 54,
   "id": "ffb84b11-65da-4aea-ab78-40d30ca8f50e",
   "metadata": {},
   "outputs": [
    {
     "data": {
      "text/plain": [
       "Nationality\n",
       "Brazil     15.32\n",
       "England    13.90\n",
       "France     14.41\n",
       "Germany    14.35\n",
       "Spain      14.69\n",
       "Name: Goals Scored, dtype: float64"
      ]
     },
     "execution_count": 54,
     "metadata": {},
     "output_type": "execute_result"
    }
   ],
   "source": [
    "avg_goal_scored = round(data.groupby('Nationality')['Goals Scored'].mean(),2)\n",
    "avg_goal_scored"
   ]
  },
  {
   "cell_type": "code",
   "execution_count": 57,
   "id": "d311e004-bc96-4d4c-aa82-1046705d01df",
   "metadata": {},
   "outputs": [
    {
     "data": {
      "text/plain": [
       "(Footedness\n",
       " Left-footed     0.198086\n",
       " Right-footed    0.200592\n",
       " Name: Conversion Rate, dtype: float64,)"
      ]
     },
     "execution_count": 57,
     "metadata": {},
     "output_type": "execute_result"
    }
   ],
   "source": [
    "avg_conv_rate = data.groupby('Footedness')['Conversion Rate'].mean(),\n",
    "avg_conv_rate"
   ]
  },
  {
   "cell_type": "code",
   "execution_count": 60,
   "id": "9e8b250c-11df-4a06-b977-4a788b8a2996",
   "metadata": {},
   "outputs": [],
   "source": [
    "from scipy.stats import shapiro"
   ]
  },
  {
   "cell_type": "code",
   "execution_count": 61,
   "id": "c1616937-29c4-4a97-9cc5-c7c334e7eccb",
   "metadata": {},
   "outputs": [
    {
     "name": "stdout",
     "output_type": "stream",
     "text": [
      "0.45127699414580213\n"
     ]
    }
   ],
   "source": [
    "stat, p_value = shapiro(data['Consistency'])\n",
    "print(p_value)"
   ]
  },
  {
   "cell_type": "code",
   "execution_count": 62,
   "id": "d2c4ea6a-7b37-45eb-9a66-0c37ab1d81fc",
   "metadata": {},
   "outputs": [],
   "source": [
    "from scipy.stats import f_oneway"
   ]
  },
  {
   "cell_type": "code",
   "execution_count": 63,
   "id": "4be0267c-9d3b-4f89-b9c4-d62c3c0a1e42",
   "metadata": {},
   "outputs": [
    {
     "name": "stdout",
     "output_type": "stream",
     "text": [
      "0.19278675901599154\n"
     ]
    }
   ],
   "source": [
    "Brazil = data.query(\"Nationality == 'Brazil'\")['Consistency']\n",
    "England = data.query(\"Nationality == 'England'\")['Consistency']\n",
    "France = data.query(\"Nationality == 'France'\")['Consistency']\n",
    "Germany = data.query(\"Nationality == 'Germany'\")['Consistency']\n",
    "Spain = data.query(\"Nationality == 'Spain'\")['Consistency']\n",
    "\n",
    "t_statistic,p_value = f_oneway(Brazil, England, France, Germany, Spain)\n",
    "print(p_value)"
   ]
  },
  {
   "cell_type": "code",
   "execution_count": 64,
   "id": "8a592ee2-0eb2-4fcc-bd72-0ebe1e2e36d6",
   "metadata": {},
   "outputs": [
    {
     "name": "stdout",
     "output_type": "stream",
     "text": [
      "P value:  0.15094090394128723\n"
     ]
    }
   ],
   "source": [
    "stat, p_value = shapiro(data['Hold-up Play'])\n",
    "print(\"P value: \",p_value)"
   ]
  },
  {
   "cell_type": "code",
   "execution_count": 65,
   "id": "69251a26-8c2e-48e1-ace2-7d762829994d",
   "metadata": {},
   "outputs": [
    {
     "data": {
      "image/png": "[encoded data removed]",
      "text/plain": [
       "<Figure size 500x700 with 1 Axes>"
      ]
     },
     "metadata": {},
     "output_type": "display_data"
    }
   ],
   "source": [
    "\"\"\"Checks for linearity\"\"\"\n",
    "plt.figure(figsize=(5,7))\n",
    "sns.regplot(x = 'Consistency', y = 'Hold-up Play', data = data)\n",
    "plt.title('Linearity between Consistency and Hold-up Play')\n",
    "plt.xlabel('Consistency')\n",
    "plt.ylabel('Hold-up Play')\n",
    "plt.show()"
   ]
  },
  {
   "cell_type": "code",
   "execution_count": 66,
   "id": "d676cb9a-cd92-4d69-95a2-e623caaf38dd",
   "metadata": {},
   "outputs": [],
   "source": [
    "from scipy.stats import pearsonr"
   ]
  },
  {
   "cell_type": "code",
   "execution_count": 67,
   "id": "2a6166d5-7bea-4fb4-bdb0-c84ade24f86d",
   "metadata": {},
   "outputs": [
    {
     "name": "stdout",
     "output_type": "stream",
     "text": [
      "Correlation coefficient:  0.14654573283554145\n",
      "P value:  0.0010146963053630409\n",
      "Reject the null hypothesis\n"
     ]
    }
   ],
   "source": [
    "\"\"\"Checks correlation between 2 columns\"\"\"\n",
    "Consistency = data['Consistency']\n",
    "Hold_up_play = data['Hold-up Play']\n",
    "\n",
    "corr, p_value = pearsonr(Consistency, Hold_up_play)\n",
    "print(\"Correlation coefficient: \",corr)                       \n",
    "print(\"P value: \",p_value)\n",
    "\n",
    "if p_value < 0.05:\n",
    "   print('Reject the null hypothesis')\n",
    "else:\n",
    "    print('Fail to reject the null hypothesis')"
   ]
  },
  {
   "cell_type": "code",
   "execution_count": 82,
   "id": "44fa6c88-ae9e-47b8-a99d-99286ff4234b",
   "metadata": {},
   "outputs": [
    {
     "data": {
      "text/html": [
       "<div>\n",
       "<style scoped>\n",
       "    .dataframe tbody tr th:only-of-type {\n",
       "        vertical-align: middle;\n",
       "    }\n",
       "\n",
       "    .dataframe tbody tr th {\n",
       "        vertical-align: top;\n",
       "    }\n",
       "\n",
       "    .dataframe thead th {\n",
       "        text-align: right;\n",
       "    }\n",
       "</style>\n",
       "<table border=\"1\" class=\"dataframe\">\n",
       "  <thead>\n",
       "    <tr style=\"text-align: right;\">\n",
       "      <th></th>\n",
       "      <th>Striker_ID</th>\n",
       "      <th>Nationality</th>\n",
       "      <th>Footedness</th>\n",
       "      <th>Marital Status</th>\n",
       "      <th>Goals Scored</th>\n",
       "      <th>Assists</th>\n",
       "      <th>Shots on Target</th>\n",
       "      <th>Shot Accuracy</th>\n",
       "      <th>Conversion Rate</th>\n",
       "      <th>Dribbling Success</th>\n",
       "      <th>...</th>\n",
       "      <th>Consistency</th>\n",
       "      <th>Penalty Success Rate</th>\n",
       "      <th>Impact on Team Performance</th>\n",
       "      <th>Off-field Conduct</th>\n",
       "      <th>Total Contribution Score</th>\n",
       "      <th>Brazil</th>\n",
       "      <th>England</th>\n",
       "      <th>France</th>\n",
       "      <th>Germany</th>\n",
       "      <th>Spain</th>\n",
       "    </tr>\n",
       "  </thead>\n",
       "  <tbody>\n",
       "    <tr>\n",
       "      <th>0</th>\n",
       "      <td>1</td>\n",
       "      <td>Spain</td>\n",
       "      <td>0</td>\n",
       "      <td>0</td>\n",
       "      <td>17</td>\n",
       "      <td>10</td>\n",
       "      <td>34</td>\n",
       "      <td>0.677836</td>\n",
       "      <td>0.166241</td>\n",
       "      <td>0.757061</td>\n",
       "      <td>...</td>\n",
       "      <td>0.820314</td>\n",
       "      <td>0.922727</td>\n",
       "      <td>8</td>\n",
       "      <td>11</td>\n",
       "      <td>113.577376</td>\n",
       "      <td>False</td>\n",
       "      <td>False</td>\n",
       "      <td>False</td>\n",
       "      <td>False</td>\n",
       "      <td>True</td>\n",
       "    </tr>\n",
       "    <tr>\n",
       "      <th>1</th>\n",
       "      <td>2</td>\n",
       "      <td>France</td>\n",
       "      <td>0</td>\n",
       "      <td>1</td>\n",
       "      <td>14</td>\n",
       "      <td>13</td>\n",
       "      <td>31</td>\n",
       "      <td>0.544881</td>\n",
       "      <td>0.192774</td>\n",
       "      <td>0.796818</td>\n",
       "      <td>...</td>\n",
       "      <td>0.803321</td>\n",
       "      <td>0.678984</td>\n",
       "      <td>3</td>\n",
       "      <td>8</td>\n",
       "      <td>110.600139</td>\n",
       "      <td>False</td>\n",
       "      <td>False</td>\n",
       "      <td>True</td>\n",
       "      <td>False</td>\n",
       "      <td>False</td>\n",
       "    </tr>\n",
       "    <tr>\n",
       "      <th>2</th>\n",
       "      <td>3</td>\n",
       "      <td>Germany</td>\n",
       "      <td>0</td>\n",
       "      <td>0</td>\n",
       "      <td>18</td>\n",
       "      <td>3</td>\n",
       "      <td>25</td>\n",
       "      <td>0.518180</td>\n",
       "      <td>0.160379</td>\n",
       "      <td>0.666869</td>\n",
       "      <td>...</td>\n",
       "      <td>0.766540</td>\n",
       "      <td>0.843858</td>\n",
       "      <td>8</td>\n",
       "      <td>9</td>\n",
       "      <td>94.433410</td>\n",
       "      <td>False</td>\n",
       "      <td>False</td>\n",
       "      <td>False</td>\n",
       "      <td>True</td>\n",
       "      <td>False</td>\n",
       "    </tr>\n",
       "    <tr>\n",
       "      <th>3</th>\n",
       "      <td>4</td>\n",
       "      <td>France</td>\n",
       "      <td>1</td>\n",
       "      <td>0</td>\n",
       "      <td>22</td>\n",
       "      <td>9</td>\n",
       "      <td>20</td>\n",
       "      <td>0.599663</td>\n",
       "      <td>0.184602</td>\n",
       "      <td>0.638776</td>\n",
       "      <td>...</td>\n",
       "      <td>0.611798</td>\n",
       "      <td>0.662997</td>\n",
       "      <td>6</td>\n",
       "      <td>8</td>\n",
       "      <td>124.250575</td>\n",
       "      <td>False</td>\n",
       "      <td>False</td>\n",
       "      <td>True</td>\n",
       "      <td>False</td>\n",
       "      <td>False</td>\n",
       "    </tr>\n",
       "    <tr>\n",
       "      <th>4</th>\n",
       "      <td>5</td>\n",
       "      <td>France</td>\n",
       "      <td>0</td>\n",
       "      <td>1</td>\n",
       "      <td>13</td>\n",
       "      <td>6</td>\n",
       "      <td>29</td>\n",
       "      <td>0.582982</td>\n",
       "      <td>0.105319</td>\n",
       "      <td>0.591485</td>\n",
       "      <td>...</td>\n",
       "      <td>0.701638</td>\n",
       "      <td>0.906538</td>\n",
       "      <td>8</td>\n",
       "      <td>6</td>\n",
       "      <td>107.293123</td>\n",
       "      <td>False</td>\n",
       "      <td>False</td>\n",
       "      <td>True</td>\n",
       "      <td>False</td>\n",
       "      <td>False</td>\n",
       "    </tr>\n",
       "  </tbody>\n",
       "</table>\n",
       "<p>5 rows × 25 columns</p>\n",
       "</div>"
      ],
      "text/plain": [
       "   Striker_ID Nationality  Footedness  Marital Status  Goals Scored  Assists  \\\n",
       "0           1       Spain           0               0            17       10   \n",
       "1           2      France           0               1            14       13   \n",
       "2           3     Germany           0               0            18        3   \n",
       "3           4      France           1               0            22        9   \n",
       "4           5      France           0               1            13        6   \n",
       "\n",
       "   Shots on Target  Shot Accuracy  Conversion Rate  Dribbling Success  ...  \\\n",
       "0               34       0.677836         0.166241           0.757061  ...   \n",
       "1               31       0.544881         0.192774           0.796818  ...   \n",
       "2               25       0.518180         0.160379           0.666869  ...   \n",
       "3               20       0.599663         0.184602           0.638776  ...   \n",
       "4               29       0.582982         0.105319           0.591485  ...   \n",
       "\n",
       "   Consistency  Penalty Success Rate  Impact on Team Performance  \\\n",
       "0     0.820314              0.922727                           8   \n",
       "1     0.803321              0.678984                           3   \n",
       "2     0.766540              0.843858                           8   \n",
       "3     0.611798              0.662997                           6   \n",
       "4     0.701638              0.906538                           8   \n",
       "\n",
       "   Off-field Conduct  Total Contribution Score  Brazil  England  France  \\\n",
       "0                 11                113.577376   False    False   False   \n",
       "1                  8                110.600139   False    False    True   \n",
       "2                  9                 94.433410   False    False   False   \n",
       "3                  8                124.250575   False    False    True   \n",
       "4                  6                107.293123   False    False    True   \n",
       "\n",
       "   Germany  Spain  \n",
       "0    False   True  \n",
       "1    False  False  \n",
       "2     True  False  \n",
       "3    False  False  \n",
       "4    False  False  \n",
       "\n",
       "[5 rows x 25 columns]"
      ]
     },
     "execution_count": 82,
     "metadata": {},
     "output_type": "execute_result"
    }
   ],
   "source": [
    "data.head()"
   ]
  },
  {
   "cell_type": "code",
   "execution_count": 70,
   "id": "889135dc-fe4d-4d0d-b9fc-a138d3bfc744",
   "metadata": {},
   "outputs": [],
   "source": [
    "\"\"\"Create a new feature\"\"\"\n",
    "data['Total Contribution Score'] = data[['Goals Scored','Assists', \n",
    "'Shots on Target', 'Dribbling Success', 'Aerial Duels Won',\n",
    "'Defensive Contribution','Big Game Performance','Consistency']].sum(axis = 1)"
   ]
  },
  {
   "cell_type": "code",
   "execution_count": null,
   "id": "94842996-3745-470c-a466-8ade29d2931e",
   "metadata": {},
   "outputs": [],
   "source": [
    "data.head()"
   ]
  },
  {
   "cell_type": "code",
   "execution_count": null,
   "id": "a10034de-7595-4d5e-8b24-f3b0d7b60e4c",
   "metadata": {},
   "outputs": [],
   "source": []
  },
  {
   "cell_type": "code",
   "execution_count": 71,
   "id": "d169a254-9829-4c67-87d1-bfc68167f180",
   "metadata": {},
   "outputs": [],
   "source": [
    "from sklearn.preprocessing import LabelEncoder\n",
    "encoder = LabelEncoder()\n",
    "data['Marital Status'] = encoder.fit_transform(data['Marital Status'])"
   ]
  },
  {
   "cell_type": "code",
   "execution_count": 72,
   "id": "ac565d59-c9fe-41b7-9f86-c7672548e690",
   "metadata": {},
   "outputs": [],
   "source": [
    "\"\"\"Encodes Footedness for the model\"\"\"\n",
    "encoder_2 = LabelEncoder()\n",
    "data['Footedness'] = encoder_2.fit_transform(data['Footedness'])"
   ]
  },
  {
   "cell_type": "code",
   "execution_count": 73,
   "id": "aba53abd-a76e-4155-9157-d3f8c43dd912",
   "metadata": {},
   "outputs": [],
   "source": [
    "dummies = pd.get_dummies(data['Nationality'])\n",
    "data = pd.concat([data, dummies], axis = 1)"
   ]
  },
  {
   "cell_type": "code",
   "execution_count": 77,
   "id": "d6522388-3deb-4dba-a658-3674597da369",
   "metadata": {},
   "outputs": [],
   "source": [
    "x = data.drop(['Striker_ID','Nationality',], axis = 1)"
   ]
  },
  {
   "cell_type": "code",
   "execution_count": null,
   "id": "f9daffed-33b9-4ab7-8a51-6c373c24d758",
   "metadata": {},
   "outputs": [],
   "source": [
    "print(x.columns)"
   ]
  },
  {
   "cell_type": "code",
   "execution_count": 78,
   "id": "9fb74ac0-4dd1-4a1b-8cfc-e6d9d13f24f4",
   "metadata": {},
   "outputs": [],
   "source": [
    "from sklearn.preprocessing import StandardScaler\n",
    "scaler = StandardScaler()\n",
    "x_scaled = scaler.fit_transform(x)"
   ]
  },
  {
   "cell_type": "code",
   "execution_count": 80,
   "id": "81bdea69-b23c-4e43-b323-9f3e2f70eb80",
   "metadata": {},
   "outputs": [],
   "source": [
    "from sklearn.cluster import KMeans\n",
    "wcss = []\n",
    "for i in range(1,15):\n",
    "    kmeans = KMeans(n_clusters = i, init = 'k-means++')\n",
    "    kmeans.fit(x_scaled)\n",
    "    wcss_score = kmeans.inertia_\n",
    "    wcss.append(wcss_score)"
   ]
  },
  {
   "cell_type": "code",
   "execution_count": 81,
   "id": "f46bb987-c8ce-4267-b85e-a7ca0ecc52bd",
   "metadata": {},
   "outputs": [
    {
     "data": {
      "text/plain": [
       "<function matplotlib.pyplot.show(close=None, block=None)>"
      ]
     },
     "execution_count": 81,
     "metadata": {},
     "output_type": "execute_result"
    },
    {
     "data": {
      "image/png": "[encoded data removed]",
      "text/plain": [
       "<Figure size 1200x600 with 1 Axes>"
      ]
     },
     "metadata": {},
     "output_type": "display_data"
    }
   ],
   "source": [
    "plt.figure(figsize = (12, 6))\n",
    "plt.plot(range(1,15), wcss, marker = 'o')\n",
    "plt.title('Elbow Method')\n",
    "plt.xlabel('Number of Clusters (k)')\n",
    "plt.ylabel('WCSS')\n",
    "plt.show"
   ]
  },
  {
   "cell_type": "code",
   "execution_count": 83,
   "id": "f9857b7d-987d-4016-8ae8-0bb200223aa5",
   "metadata": {},
   "outputs": [
    {
     "data": {
      "text/plain": [
       "array([1, 1, 1, 0, 1, 0, 0, 0, 0, 1, 1, 0, 0, 1, 0, 1, 1, 0, 1, 1, 0, 0,\n",
       "       1, 0, 0, 0, 1, 0, 0, 1, 0, 0, 0, 1, 0, 0, 0, 1, 1, 0, 0, 0, 1, 1,\n",
       "       1, 0, 0, 0, 0, 1, 0, 0, 0, 1, 1, 1, 1, 0, 0, 0, 1, 0, 1, 1, 0, 1,\n",
       "       1, 1, 0, 0, 1, 0, 0, 1, 1, 1, 1, 0, 1, 0, 0, 1, 0, 0, 0, 0, 0, 0,\n",
       "       1, 1, 1, 0, 0, 1, 0, 1, 0, 1, 0, 0, 1, 1, 0, 0, 1, 1, 0, 0, 1, 0,\n",
       "       1, 1, 0, 1, 0, 0, 0, 1, 0, 0, 1, 0, 0, 0, 0, 0, 1, 1, 0, 0, 1, 0,\n",
       "       0, 0, 1, 1, 0, 1, 1, 1, 0, 0, 1, 0, 0, 0, 1, 1, 1, 1, 1, 0, 1, 1,\n",
       "       0, 0, 0, 0, 0, 1, 1, 0, 1, 1, 0, 0, 0, 0, 1, 0, 0, 1, 0, 1, 0, 1,\n",
       "       1, 0, 0, 0, 0, 1, 0, 1, 1, 0, 1, 1, 1, 1, 1, 0, 0, 1, 1, 0, 0, 0,\n",
       "       1, 0, 1, 1, 0, 0, 0, 1, 0, 1, 1, 0, 1, 0, 0, 0, 1, 0, 0, 0, 0, 0,\n",
       "       0, 0, 0, 1, 1, 1, 0, 1, 0, 0, 1, 1, 1, 0, 0, 0, 1, 0, 1, 0, 1, 0,\n",
       "       1, 0, 0, 1, 1, 1, 0, 1, 0, 0, 1, 1, 1, 0, 1, 0, 1, 0, 1, 0, 0, 1,\n",
       "       1, 1, 1, 1, 1, 0, 0, 1, 1, 1, 1, 0, 0, 0, 1, 1, 0, 1, 1, 1, 0, 1,\n",
       "       1, 0, 1, 1, 0, 0, 1, 0, 0, 1, 0, 1, 1, 0, 1, 1, 1, 1, 1, 1, 1, 0,\n",
       "       0, 1, 0, 1, 0, 1, 0, 1, 0, 1, 0, 1, 1, 0, 1, 0, 1, 1, 1, 0, 0, 1,\n",
       "       0, 1, 0, 0, 1, 1, 1, 1, 0, 1, 1, 0, 0, 0, 0, 0, 1, 1, 1, 0, 1, 0,\n",
       "       0, 0, 0, 0, 0, 0, 1, 0, 1, 1, 1, 1, 0, 1, 0, 1, 1, 1, 0, 0, 1, 1,\n",
       "       0, 1, 1, 0, 1, 0, 0, 0, 1, 0, 0, 0, 0, 0, 0, 0, 1, 1, 0, 0, 1, 1,\n",
       "       1, 1, 0, 0, 1, 1, 1, 0, 0, 0, 1, 1, 0, 0, 0, 0, 0, 0, 1, 0, 0, 1,\n",
       "       0, 0, 0, 0, 0, 0, 0, 1, 0, 1, 1, 1, 0, 1, 0, 0, 1, 0, 0, 0, 0, 1,\n",
       "       0, 0, 1, 1, 0, 0, 1, 1, 0, 0, 0, 0, 0, 0, 0, 1, 1, 0, 0, 0, 0, 1,\n",
       "       0, 0, 1, 1, 0, 0, 1, 0, 0, 1, 1, 1, 1, 1, 0, 0, 0, 1, 1, 0, 0, 1,\n",
       "       0, 0, 1, 1, 0, 0, 1, 0, 1, 0, 0, 0, 0, 0, 0, 1], dtype=int32)"
      ]
     },
     "execution_count": 83,
     "metadata": {},
     "output_type": "execute_result"
    }
   ],
   "source": [
    "final_km = KMeans(n_clusters = 2)\n",
    "final_km.fit(x)\n",
    "labels = final_km.labels_\n",
    "labels"
   ]
  },
  {
   "cell_type": "code",
   "execution_count": 87,
   "id": "d14ad149-cd1e-4d78-a263-b274f41752fa",
   "metadata": {},
   "outputs": [
    {
     "data": {
      "text/html": [
       "<div>\n",
       "<style scoped>\n",
       "    .dataframe tbody tr th:only-of-type {\n",
       "        vertical-align: middle;\n",
       "    }\n",
       "\n",
       "    .dataframe tbody tr th {\n",
       "        vertical-align: top;\n",
       "    }\n",
       "\n",
       "    .dataframe thead th {\n",
       "        text-align: right;\n",
       "    }\n",
       "</style>\n",
       "<table border=\"1\" class=\"dataframe\">\n",
       "  <thead>\n",
       "    <tr style=\"text-align: right;\">\n",
       "      <th></th>\n",
       "      <th>Striker_ID</th>\n",
       "      <th>Nationality</th>\n",
       "      <th>Footedness</th>\n",
       "      <th>Marital Status</th>\n",
       "      <th>Goals Scored</th>\n",
       "      <th>Assists</th>\n",
       "      <th>Shots on Target</th>\n",
       "      <th>Shot Accuracy</th>\n",
       "      <th>Conversion Rate</th>\n",
       "      <th>Dribbling Success</th>\n",
       "      <th>...</th>\n",
       "      <th>Impact on Team Performance</th>\n",
       "      <th>Off-field Conduct</th>\n",
       "      <th>Total Contribution Score</th>\n",
       "      <th>Brazil</th>\n",
       "      <th>England</th>\n",
       "      <th>France</th>\n",
       "      <th>Germany</th>\n",
       "      <th>Spain</th>\n",
       "      <th>Clusters</th>\n",
       "      <th>Strikers types</th>\n",
       "    </tr>\n",
       "  </thead>\n",
       "  <tbody>\n",
       "    <tr>\n",
       "      <th>0</th>\n",
       "      <td>1</td>\n",
       "      <td>Spain</td>\n",
       "      <td>0</td>\n",
       "      <td>0</td>\n",
       "      <td>17</td>\n",
       "      <td>10</td>\n",
       "      <td>34</td>\n",
       "      <td>0.677836</td>\n",
       "      <td>0.166241</td>\n",
       "      <td>0.757061</td>\n",
       "      <td>...</td>\n",
       "      <td>8</td>\n",
       "      <td>11</td>\n",
       "      <td>113.577376</td>\n",
       "      <td>False</td>\n",
       "      <td>False</td>\n",
       "      <td>False</td>\n",
       "      <td>False</td>\n",
       "      <td>True</td>\n",
       "      <td>1</td>\n",
       "      <td>Regular Strikers</td>\n",
       "    </tr>\n",
       "    <tr>\n",
       "      <th>1</th>\n",
       "      <td>2</td>\n",
       "      <td>France</td>\n",
       "      <td>0</td>\n",
       "      <td>1</td>\n",
       "      <td>14</td>\n",
       "      <td>13</td>\n",
       "      <td>31</td>\n",
       "      <td>0.544881</td>\n",
       "      <td>0.192774</td>\n",
       "      <td>0.796818</td>\n",
       "      <td>...</td>\n",
       "      <td>3</td>\n",
       "      <td>8</td>\n",
       "      <td>110.600139</td>\n",
       "      <td>False</td>\n",
       "      <td>False</td>\n",
       "      <td>True</td>\n",
       "      <td>False</td>\n",
       "      <td>False</td>\n",
       "      <td>1</td>\n",
       "      <td>Regular Strikers</td>\n",
       "    </tr>\n",
       "    <tr>\n",
       "      <th>2</th>\n",
       "      <td>3</td>\n",
       "      <td>Germany</td>\n",
       "      <td>0</td>\n",
       "      <td>0</td>\n",
       "      <td>18</td>\n",
       "      <td>3</td>\n",
       "      <td>25</td>\n",
       "      <td>0.518180</td>\n",
       "      <td>0.160379</td>\n",
       "      <td>0.666869</td>\n",
       "      <td>...</td>\n",
       "      <td>8</td>\n",
       "      <td>9</td>\n",
       "      <td>94.433410</td>\n",
       "      <td>False</td>\n",
       "      <td>False</td>\n",
       "      <td>False</td>\n",
       "      <td>True</td>\n",
       "      <td>False</td>\n",
       "      <td>1</td>\n",
       "      <td>Regular Strikers</td>\n",
       "    </tr>\n",
       "    <tr>\n",
       "      <th>3</th>\n",
       "      <td>4</td>\n",
       "      <td>France</td>\n",
       "      <td>1</td>\n",
       "      <td>0</td>\n",
       "      <td>22</td>\n",
       "      <td>9</td>\n",
       "      <td>20</td>\n",
       "      <td>0.599663</td>\n",
       "      <td>0.184602</td>\n",
       "      <td>0.638776</td>\n",
       "      <td>...</td>\n",
       "      <td>6</td>\n",
       "      <td>8</td>\n",
       "      <td>124.250575</td>\n",
       "      <td>False</td>\n",
       "      <td>False</td>\n",
       "      <td>True</td>\n",
       "      <td>False</td>\n",
       "      <td>False</td>\n",
       "      <td>0</td>\n",
       "      <td>Best Strikers</td>\n",
       "    </tr>\n",
       "    <tr>\n",
       "      <th>4</th>\n",
       "      <td>5</td>\n",
       "      <td>France</td>\n",
       "      <td>0</td>\n",
       "      <td>1</td>\n",
       "      <td>13</td>\n",
       "      <td>6</td>\n",
       "      <td>29</td>\n",
       "      <td>0.582982</td>\n",
       "      <td>0.105319</td>\n",
       "      <td>0.591485</td>\n",
       "      <td>...</td>\n",
       "      <td>8</td>\n",
       "      <td>6</td>\n",
       "      <td>107.293123</td>\n",
       "      <td>False</td>\n",
       "      <td>False</td>\n",
       "      <td>True</td>\n",
       "      <td>False</td>\n",
       "      <td>False</td>\n",
       "      <td>1</td>\n",
       "      <td>Regular Strikers</td>\n",
       "    </tr>\n",
       "  </tbody>\n",
       "</table>\n",
       "<p>5 rows × 27 columns</p>\n",
       "</div>"
      ],
      "text/plain": [
       "   Striker_ID Nationality  Footedness  Marital Status  Goals Scored  Assists  \\\n",
       "0           1       Spain           0               0            17       10   \n",
       "1           2      France           0               1            14       13   \n",
       "2           3     Germany           0               0            18        3   \n",
       "3           4      France           1               0            22        9   \n",
       "4           5      France           0               1            13        6   \n",
       "\n",
       "   Shots on Target  Shot Accuracy  Conversion Rate  Dribbling Success  ...  \\\n",
       "0               34       0.677836         0.166241           0.757061  ...   \n",
       "1               31       0.544881         0.192774           0.796818  ...   \n",
       "2               25       0.518180         0.160379           0.666869  ...   \n",
       "3               20       0.599663         0.184602           0.638776  ...   \n",
       "4               29       0.582982         0.105319           0.591485  ...   \n",
       "\n",
       "   Impact on Team Performance  Off-field Conduct  Total Contribution Score  \\\n",
       "0                           8                 11                113.577376   \n",
       "1                           3                  8                110.600139   \n",
       "2                           8                  9                 94.433410   \n",
       "3                           6                  8                124.250575   \n",
       "4                           8                  6                107.293123   \n",
       "\n",
       "   Brazil  England  France  Germany  Spain  Clusters    Strikers types  \n",
       "0   False    False   False    False   True         1  Regular Strikers  \n",
       "1   False    False    True    False  False         1  Regular Strikers  \n",
       "2   False    False   False     True  False         1  Regular Strikers  \n",
       "3   False    False    True    False  False         0     Best Strikers  \n",
       "4   False    False    True    False  False         1  Regular Strikers  \n",
       "\n",
       "[5 rows x 27 columns]"
      ]
     },
     "execution_count": 87,
     "metadata": {},
     "output_type": "execute_result"
    }
   ],
   "source": [
    "data['Clusters'] = labels\n",
    "data.head()"
   ]
  },
  {
   "cell_type": "code",
   "execution_count": 85,
   "id": "49d30c87-ada1-43dc-a29a-1e047a2c23fa",
   "metadata": {},
   "outputs": [
    {
     "data": {
      "text/plain": [
       "Clusters\n",
       "0    123.57\n",
       "1    102.15\n",
       "Name: Total Contribution Score, dtype: float64"
      ]
     },
     "execution_count": 85,
     "metadata": {},
     "output_type": "execute_result"
    }
   ],
   "source": [
    "round(data.groupby('Clusters')['Total Contribution Score'].mean(),2)"
   ]
  },
  {
   "cell_type": "code",
   "execution_count": 86,
   "id": "0d3d79db-6249-4b8c-b137-4bb7e42c3bd1",
   "metadata": {},
   "outputs": [],
   "source": [
    "mapping = {0:'Best Strikers', 1:'Regular Strikers'}\n",
    "data['Strikers types'] = data['Clusters'].map(mapping)"
   ]
  },
  {
   "cell_type": "code",
   "execution_count": 88,
   "id": "166379d1-ff92-4a1f-bfaa-b8fc4376a3dc",
   "metadata": {},
   "outputs": [],
   "source": [
    "data = data.drop(['Clusters'], axis = 1)"
   ]
  },
  {
   "cell_type": "code",
   "execution_count": 89,
   "id": "59b56ead-786b-494f-bd66-02160dac5520",
   "metadata": {},
   "outputs": [],
   "source": [
    "from sklearn.linear_model import LogisticRegression\n",
    "from sklearn.metrics import accuracy_score,confusion_matrix"
   ]
  },
  {
   "cell_type": "code",
   "execution_count": 90,
   "id": "5a24d8ce-59d6-4d55-913b-7e65b8d50dbe",
   "metadata": {},
   "outputs": [],
   "source": [
    "y = data['Strikers types']"
   ]
  },
  {
   "cell_type": "code",
   "execution_count": 91,
   "id": "e04eb71d-ab14-4b75-8aba-e829f12b3657",
   "metadata": {},
   "outputs": [],
   "source": [
    "from sklearn.preprocessing import StandardScaler"
   ]
  },
  {
   "cell_type": "code",
   "execution_count": 92,
   "id": "cb7f8e93-65c7-4b5a-b927-5889b300939c",
   "metadata": {},
   "outputs": [],
   "source": [
    "scaler = StandardScaler()\n",
    "scaled_x = scaler.fit_transform(x)"
   ]
  },
  {
   "cell_type": "code",
   "execution_count": 93,
   "id": "e3713863-594c-448a-b549-573b34767ebc",
   "metadata": {},
   "outputs": [
    {
     "data": {
      "text/plain": [
       "array([[-1.07047781, -1.03252879,  0.5050467 , ..., -0.47801802,\n",
       "        -0.47169258,  1.86125917],\n",
       "       [-1.07047781,  0.968496  , -0.10638998, ...,  2.09197134,\n",
       "        -0.47169258, -0.53727069],\n",
       "       [-1.07047781, -1.03252879,  0.70885893, ..., -0.47801802,\n",
       "         2.12002488, -0.53727069],\n",
       "       ...,\n",
       "       [-1.07047781,  0.968496  , -0.10638998, ..., -0.47801802,\n",
       "        -0.47169258, -0.53727069],\n",
       "       [ 0.93416229,  0.968496  , -0.9216389 , ..., -0.47801802,\n",
       "        -0.47169258, -0.53727069],\n",
       "       [-1.07047781, -1.03252879, -1.32926335, ..., -0.47801802,\n",
       "        -0.47169258, -0.53727069]], shape=(500, 23))"
      ]
     },
     "execution_count": 93,
     "metadata": {},
     "output_type": "execute_result"
    }
   ],
   "source": [
    "scaled_x"
   ]
  },
  {
   "cell_type": "code",
   "execution_count": 94,
   "id": "a8ecf936-41a1-4292-b365-41e30beec4b7",
   "metadata": {},
   "outputs": [],
   "source": [
    "from sklearn.model_selection import train_test_split"
   ]
  },
  {
   "cell_type": "code",
   "execution_count": 95,
   "id": "1303c5e0-5fe0-4516-b221-4908993452a2",
   "metadata": {},
   "outputs": [],
   "source": [
    "\"\"\"Split the data\"\"\"\n",
    "x_train,x_test,y_train,y_test = train_test_split(scaled_x,y,test_size = 0.2,random_state = 42)"
   ]
  },
  {
   "cell_type": "code",
   "execution_count": 96,
   "id": "4f53f9f0-d7bc-41fa-a2aa-14a06690d7a7",
   "metadata": {},
   "outputs": [
    {
     "name": "stdout",
     "output_type": "stream",
     "text": [
      "96.0 %\n"
     ]
    }
   ],
   "source": [
    "\"\"\"Building the logistic regression model\"\"\"\n",
    "lgr_model = LogisticRegression()\n",
    "lgr_model.fit(x_train,y_train)\n",
    "\n",
    "y_lgr_pred = lgr_model.predict(x_test)\n",
    "\n",
    "accuracy_lgr = accuracy_score(y_test,y_lgr_pred)\n",
    "print(accuracy_lgr *100, '%')"
   ]
  },
  {
   "cell_type": "code",
   "execution_count": 97,
   "id": "ff4dd643-826e-434e-8664-a6050fbbecc6",
   "metadata": {},
   "outputs": [
    {
     "data": {
      "image/png": "[encoded data removed]",
      "text/plain": [
       "<Figure size 1200x600 with 2 Axes>"
      ]
     },
     "metadata": {},
     "output_type": "display_data"
    }
   ],
   "source": [
    "\"\"\"Evaluate the model\"\"\"\n",
    "conf_matrix_lgr = confusion_matrix(y_test, y_lgr_pred)\n",
    "\n",
    "plt.figure(figsize = (12, 6))\n",
    "sns.heatmap(conf_matrix_lgr, annot = True, fmt = \"d\", cmap = \"Blues\")\n",
    "plt.title('Confusion matrix for lgr model')\n",
    "plt.xlabel('Predicted')\n",
    "plt.ylabel('Actual')\n",
    "plt.show()"
   ]
  },
  {
   "cell_type": "code",
   "execution_count": null,
   "id": "90b2ff9b-cead-46fa-9733-72eae0b142a1",
   "metadata": {},
   "outputs": [],
   "source": []
  }
 ],
 "metadata": {
  "kernelspec": {
   "display_name": "Python 3 (ipykernel)",
   "language": "python",
   "name": "python3"
  },
  "language_info": {
   "codemirror_mode": {
    "name": "ipython",
    "version": 3
   },
   "file_extension": ".py",
   "mimetype": "text/x-python",
   "name": "python",
   "nbconvert_exporter": "python",
   "pygments_lexer": "ipython3",
   "version": "3.13.1"
  }
 },
 "nbformat": 4,
 "nbformat_minor": 5
}
